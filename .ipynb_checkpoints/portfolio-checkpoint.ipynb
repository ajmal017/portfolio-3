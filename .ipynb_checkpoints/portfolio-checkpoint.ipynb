{
 "cells": [
  {
   "cell_type": "code",
   "execution_count": null,
   "metadata": {},
   "outputs": [],
   "source": [
    "from matplotlib import pyplot as plt\n",
    "from tqdm import tqdm\n",
    "import numpy as np\n",
    "import pandas as pd\n",
    "import cvxpy as cp\n",
    "import random\n",
    "\n",
    "random.seed(42)"
   ]
  },
  {
   "cell_type": "markdown",
   "metadata": {
    "heading_collapsed": true
   },
   "source": [
    "##  Portfolio Selection"
   ]
  },
  {
   "cell_type": "markdown",
   "metadata": {},
   "source": [
    "Paper: Logarithmic Regret Algorithms for Online Convex Optimization\n",
    "\n",
    "$W_T = W_{T-1} r_{T-1}^T x_{T-1} = W_1 \\prod_t r_t^T x^t$\n",
    "\n",
    "$r_t(i) = \\frac{\\text{price of stock i at } t+1}{\\text{price of stock i at } t}$\n",
    "\n",
    "$regret_T = \\max_{x \\in \\Delta_n} \\sum_t f_t(x) - \\sum_t f_t(x_t)$\n",
    "\n",
    "$f_t(x) = \\log\\left( r_t^T x \\right)$\n",
    "\n",
    "we would like to minimize the regret over time\n",
    "\n",
    "ogd - online gradient descent\n",
    "\n",
    "ons - online newton step\n"
   ]
  },
  {
   "cell_type": "code",
   "execution_count": null,
   "metadata": {},
   "outputs": [],
   "source": [
    "def project_simplex(y):\n",
    "    p = cp.Variable(y.shape)\n",
    "    objective = cp.Minimize(cp.sum_squares(p - y))\n",
    "    constraints = [cp.sum(p) == 1, p >= 0]\n",
    "    problem = cp.Problem(objective, constraints)\n",
    "    problem.solve()\n",
    "    if problem.status != cp.OPTIMAL:\n",
    "        ex = f\"Can't project to the simplex: {problem.status}\"\n",
    "        raise cp.error.SolverError(ex)\n",
    "    return(p.value)\n",
    "    \n",
    "\n",
    "def project_A(A, y):\n",
    "    p = cp.Variable(y.shape)\n",
    "    objective = cp.Minimize(cp.quad_form((p - y), A))\n",
    "    constraints = [cp.sum(p) == 1, p >= 0]\n",
    "    problem = cp.Problem(objective, constraints)\n",
    "    problem.solve()\n",
    "    if problem.status != cp.OPTIMAL:\n",
    "        ex = f\"Can't project to A: {problem.status}\"\n",
    "        raise cp.error.SolverError(ex)\n",
    "    return(p.value)\n",
    "\n",
    "\n",
    "def best_hindsight(Rs):\n",
    "    p = cp.Variable((Rs.shape[0],1))\n",
    "    objective = cp.Maximize(cp.sum(cp.log(Rs.T @ p)))\n",
    "    constraints = [cp.sum(p) == 1, p >= 0]\n",
    "    problem = cp.Problem(objective, constraints)\n",
    "    #https://www.cvxpy.org/tutorial/advanced/index.html#solvers\n",
    "    #needs better than ECOS\n",
    "    problem.solve(solver=\"SCS\")\n",
    "    if problem.status != cp.OPTIMAL:\n",
    "        ex = f\"Can't find best in hindsight: {problem.status}\"\n",
    "        raise cp.error.SolverError(ex)\n",
    "    return(problem.value)\n",
    "\n",
    "def hindsight(X):\n",
    "    T = X.shape[1]\n",
    "    rewards = []\n",
    "\n",
    "    for t in tqdm(range(1,T), desc=\"hindsight\"):\n",
    "        r_t = X[:,t] / X[:,t-1]\n",
    "        r_t = r_t[:,None]\n",
    "\n",
    "        #hindsight\n",
    "        try:\n",
    "            Rs = np.hstack((Rs,r_t))\n",
    "        except:\n",
    "            Rs = r_t\n",
    "\n",
    "        rewards += [best_hindsight(Rs)]\n",
    "\n",
    "    return(rewards)\n",
    "\n",
    "\n",
    "def ogd(X):\n",
    "    T = X.shape[1]\n",
    "    d = X.shape[0]\n",
    "    x = np.ones([d,1])/d\n",
    "    rewards = []\n",
    "\n",
    "    for t in tqdm(range(1,T), desc=\"ogd\"):\n",
    "        r_t = X[:,t] / X[:,t-1]\n",
    "        r_t = r_t[:,None]\n",
    "\n",
    "        multiplier = r_t.T @ x\n",
    "        grad = r_t / multiplier\n",
    "        eta = 1 / (d * np.sqrt(t))\n",
    "        y = x + eta * grad #+ for ascent\n",
    "        x = project_simplex(y)\n",
    "\n",
    "        rewards += [np.log(multiplier)[0][0]]\n",
    "\n",
    "    return(x,rewards)\n",
    "\n",
    "\n",
    "\n",
    "def ons(X, beta=2):\n",
    "    T = X.shape[1]\n",
    "    d = X.shape[0]\n",
    "    x = np.ones([d,1])/d\n",
    "    A = np.zeros([d,d])\n",
    "    b = np.zeros([d,1])\n",
    "    rewards = []\n",
    "\n",
    "    for t in tqdm(range(1,T), desc=\"ons\"):\n",
    "        r_t = X[:,t] / X[:,t-1]\n",
    "        r_t = r_t[:,None]\n",
    "\n",
    "        multiplier = r_t.T @ x\n",
    "        grad = r_t / multiplier\n",
    "        hess = grad @ grad.T\n",
    "        A += hess\n",
    "        b += hess @ x + (1 / beta) * grad #+ for ascent\n",
    "        x = project_A(A, np.linalg.pinv(A) @ b)\n",
    "\n",
    "        rewards += [np.log(multiplier)[0][0]]\n",
    "\n",
    "    return(x, rewards)\n",
    "\n",
    "\n",
    "def plot_two_plots(hind,ogd,ons):\n",
    "    T = len(hind)\n",
    "\n",
    "    # stock multiplier\n",
    "    plt.subplot(121)\n",
    "    plt.plot(hind, color = 'b', label=\"best in hindsight\")\n",
    "    plt.plot(ogd, color = 'r', label=\"ogd\")\n",
    "    plt.plot(ons, color = 'c', label=\"ons\")\n",
    "    plt.legend()\n",
    "    plt.xlabel(\"time\")\n",
    "    plt.ylabel(\"log of stock multiplier\")\n",
    "\n",
    "    # regret\n",
    "    plt.subplot(122)\n",
    "    plt.plot([(h - o) for h,o in zip(hind,ogd)], color = 'r', label=\"ogd\")\n",
    "    plt.plot([(h - o) for h,o in zip(hind,ons)], color = 'c', label=\"ons\")\n",
    "    plt.legend()\n",
    "    plt.xlabel(\"time\")\n",
    "    plt.ylabel(\"regret\")\n",
    "\n",
    "    plt.show()"
   ]
  },
  {
   "cell_type": "markdown",
   "metadata": {
    "heading_collapsed": true
   },
   "source": [
    "#### Unit test"
   ]
  },
  {
   "cell_type": "markdown",
   "metadata": {},
   "source": [
    "Example from the Elad's book\n",
    "stock 1 $= \\left( 1, 2, 1, ... \\right)$\n",
    "$r_t(1) = \\left( 2, 0.5, 2, 0.5, ... \\right)$\n",
    "stock 2 $= \\left( 2, 1, 2, ... \\right)$\n",
    "$r_t(2) = \\left( 0.5, 2, 0.5, 2, ... \\right)$\n",
    "$p_{opt} = \\left( 0.5, 0.5 \\right)$\n",
    "\n",
    "#Code\n",
    "def test():\n",
    "    T = 300\n",
    "    s1 = [2**(i%2) for i in range(T)]\n",
    "    s2 = s1[::-1]\n",
    "    X = np.vstack((np.array(s1),np.array(s2)))\n",
    "\n",
    "    bh_reward = hindsight(X)\n",
    "    x_ogd, ogd_reward = ogd(X)\n",
    "    x_ons, ons_reward = ons(X)\n",
    "\n",
    "\n",
    "    #Title#\n",
    "    ##Plot\n",
    "\n",
    "    #Code#\n",
    "    print(\"final x_ogd = \",x_ogd)\n",
    "    print(\"final x_ons = \",x_ons)\n",
    "\n",
    "    plot_two_plots(bh_reward,np.cumsum(ogd_reward), np.cumsum(ons_reward))\n",
    "\n",
    "#test()\n",
    "\n"
   ]
  },
  {
   "cell_type": "markdown",
   "metadata": {
    "heading_collapsed": true
   },
   "source": [
    "#### Real data"
   ]
  },
  {
   "cell_type": "markdown",
   "metadata": {},
   "source": [
    "S\\&P 500 from 8/2/2013 - 7/2/2018\n",
    "\n",
    "https://www.kaggle.com/camnugent/sandp500?select=all_stocks_5yr.csv"
   ]
  },
  {
   "cell_type": "code",
   "execution_count": null,
   "metadata": {},
   "outputs": [],
   "source": [
    "# load data\n",
    "X = pd.read_csv(\"SP.csv\")\n",
    "#X[\"date\"] = X[\"date\"].map(lambda x : x.split()[0]) #so no 00:00:00 in date\n",
    "\n",
    "X_groups = X.groupby([\"date\"])\n",
    "Xs = list(X_groups)\n",
    "Xs = [x[1] for x in Xs] #[0] is the date, [1] is the dataframe\n",
    "\n",
    "#use only companies that always exists\n",
    "companies = set(Xs[0][\"Name\"].unique())\n",
    "for i in Xs:\n",
    "    companies = set(i[\"Name\"]) & companies #sets intersection\n",
    "#take subset to make intractable\n",
    "k = 20\n",
    "companies = random.sample(companies, k = k)\n",
    "\n",
    "X = X[X[\"Name\"].isin(companies)]\n",
    "X_groups = X.groupby([\"date\"])\n",
    "Xs = list(X_groups)\n",
    "Xs = [x[1] for x in Xs]\n",
    "\n",
    "#concat to big numpy array\n",
    "col = \"close\"\n",
    "Xs[0] = Xs[0].sort_values(by=\"Name\")\n",
    "X = Xs[0][col].to_numpy(copy=True)[:,None]\n",
    "for i in range(1,len(Xs)):\n",
    "    Xs[i] = Xs[i].sort_values(by=\"Name\")\n",
    "    X = np.hstack((X,Xs[i][col].to_numpy(copy=True)[:,None]))"
   ]
  },
  {
   "cell_type": "markdown",
   "metadata": {
    "heading_collapsed": true
   },
   "source": [
    "###### Visualization"
   ]
  },
  {
   "cell_type": "code",
   "execution_count": null,
   "metadata": {},
   "outputs": [],
   "source": [
    "plt.plot(X.T)\n",
    "plt.title(f\"{k} stocks from S&P 500, 8/2/2013 - 7/2/2018\")\n",
    "plt.show()\n",
    "\n",
    "## algorithm\n",
    "#T = X.shape[1] // 4\n",
    "#X = X[:,:T]\n",
    "\n",
    "bh_reward = hindsight(X)\n",
    "x_ogd, ogd_reward = ogd(X)\n",
    "x_ons, ons_reward = ons(X)"
   ]
  },
  {
   "cell_type": "markdown",
   "metadata": {
    "heading_collapsed": true
   },
   "source": [
    "###### Plot"
   ]
  },
  {
   "cell_type": "code",
   "execution_count": null,
   "metadata": {},
   "outputs": [],
   "source": [
    "print(\"final x_ogd = \",x_ogd)\n",
    "print(\"final x_ons = \",x_ons)\n",
    "\n",
    "plot_two_plots(bh_reward,np.cumsum(ogd_reward), np.cumsum(ons_reward))\n"
   ]
  }
 ],
 "metadata": {
  "kernelspec": {
   "display_name": "Python 3",
   "language": "python",
   "name": "python3"
  },
  "language_info": {
   "codemirror_mode": {
    "name": "ipython",
    "version": 3
   },
   "file_extension": ".py",
   "mimetype": "text/x-python",
   "name": "python",
   "nbconvert_exporter": "python",
   "pygments_lexer": "ipython3",
   "version": "3.8.3"
  }
 },
 "nbformat": 4,
 "nbformat_minor": 4
}
