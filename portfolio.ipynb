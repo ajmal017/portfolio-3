{
 "cells": [
  {
   "cell_type": "code",
   "execution_count": null,
   "metadata": {},
   "outputs": [],
   "source": [
    "import data\n",
    "import algo\n",
    "import plot"
   ]
  },
  {
   "cell_type": "markdown",
   "metadata": {
    "heading_collapsed": true
   },
   "source": [
    "#  Portfolio Selection"
   ]
  },
  {
   "cell_type": "markdown",
   "metadata": {},
   "source": [
    "Paper: Logarithmic Regret Algorithms for Online Convex Optimization\n",
    "\n",
    "$W_T = W_{T-1} r_{T-1}^T x_{T-1} = W_1 \\prod_t r_t^T x^t$\n",
    "\n",
    "$r_t(i) = \\frac{\\text{price of stock i at } t}{\\text{price of stock i at } t-1}$\n",
    "\n",
    "$f_t(x) = \\log\\left( r_t^T x \\right)$\n",
    "\n",
    "$f_t$ are rewards and not losses, so the regret defined as:\n",
    "\n",
    "$\\text{Regret}_T = \\max_{x \\in \\Delta_n} \\sum_t f_t(x) - \\sum_t f_t(x_t)$\n",
    "\n",
    "We'll use the following no-regret algorithms:\n",
    "\n",
    "oga - online gradient descent\n",
    "\n",
    "ons - online newton step\n",
    "\n"
   ]
  },
  {
   "cell_type": "markdown",
   "metadata": {
    "heading_collapsed": true
   },
   "source": [
    "## Test unit "
   ]
  },
  {
   "cell_type": "markdown",
   "metadata": {},
   "source": [
    "Example from the Elad's book\n",
    "\n",
    "stock 1 $= \\left( 1, 2, 1, ... \\right)$\n",
    "\n",
    "$r_t(1) = \\left( 2, 0.5, 2, 0.5, ... \\right)$\n",
    "\n",
    "stock 2 $= \\left( 2, 1, 2, ... \\right)$\n",
    "\n",
    "$r_t(2) = \\left( 0.5, 2, 0.5, 2, ... \\right)$\n",
    "\n",
    "$p_{opt} = \\left( 0.5, 0.5 \\right)$"
   ]
  },
  {
   "cell_type": "code",
   "execution_count": null,
   "metadata": {},
   "outputs": [],
   "source": [
    "def test_unit():\n",
    "    T = 100\n",
    "    X = test_data(T)\n",
    "\n",
    "    bh_reward = algo.hindsight(X)\n",
    "    x_oga, oga_reward = algo.oga(X)\n",
    "    x_ons, ons_reward = algo.ons(X)\n",
    "\n",
    "    print(\"final x_oga = \",x_oga)\n",
    "    print(\"final x_ons = \",x_ons)\n",
    "    print(\"should be\", 0.5 * np.ones([2,1]))\n",
    "\n",
    "    plot.plot_two_plots(bh_reward,np.cumsum(oga_reward), np.cumsum(ons_reward))\n",
    "\n",
    "#test_unit()\n",
    "\n",
    "###################################################################################"
   ]
  },
  {
   "cell_type": "markdown",
   "metadata": {
    "heading_collapsed": true
   },
   "source": [
    "## Real data"
   ]
  },
  {
   "cell_type": "markdown",
   "metadata": {
    "heading_collapsed": true
   },
   "source": [
    "### NIFTY-50"
   ]
  },
  {
   "cell_type": "markdown",
   "metadata": {},
   "source": [
    "1/1/2000 - 13/7/2020\n",
    "\n",
    "https://www.kaggle.com/rohanrao/nifty50-stock-market-data?select=BPCL.csv\n"
   ]
  },
  {
   "cell_type": "code",
   "execution_count": null,
   "metadata": {},
   "outputs": [],
   "source": [
    "nifty = data.NIFTY()"
   ]
  },
  {
   "cell_type": "markdown",
   "metadata": {
    "heading_collapsed": true
   },
   "source": [
    "#### Stocks Visualization\n"
   ]
  },
  {
   "cell_type": "code",
   "execution_count": null,
   "metadata": {},
   "outputs": [],
   "source": [
    "plot.vis(nifty)"
   ]
  },
  {
   "cell_type": "markdown",
   "metadata": {
    "heading_collapsed": true
   },
   "source": [
    "#### Compute & Plot\n"
   ]
  },
  {
   "cell_type": "code",
   "execution_count": null,
   "metadata": {},
   "outputs": [],
   "source": [
    "bh_reward, oga_reward, ons_reward = algo.compute_summary(nifty)\n",
    "\n",
    "plot.plot_two_plots(bh_reward, oga_reward, ons_reward)\n",
    "###################################################################################"
   ]
  },
  {
   "cell_type": "markdown",
   "metadata": {
    "heading_collapsed": true
   },
   "source": [
    "### S\\&P 500"
   ]
  },
  {
   "cell_type": "markdown",
   "metadata": {},
   "source": [
    "8/2/2013 - 7/2/2018\n",
    "\n",
    "https://www.kaggle.com/camnugent/sandp500?select=all_stocks_5yr.csv\n"
   ]
  },
  {
   "cell_type": "code",
   "execution_count": null,
   "metadata": {},
   "outputs": [],
   "source": [
    "sp = data.SP(20)"
   ]
  },
  {
   "cell_type": "markdown",
   "metadata": {
    "heading_collapsed": true
   },
   "source": [
    "#### Stocks Visualization\n"
   ]
  },
  {
   "cell_type": "code",
   "execution_count": null,
   "metadata": {},
   "outputs": [],
   "source": [
    "plot.vis(sp)"
   ]
  },
  {
   "cell_type": "markdown",
   "metadata": {
    "heading_collapsed": true
   },
   "source": [
    "#### Compute & Plot\n"
   ]
  },
  {
   "cell_type": "code",
   "execution_count": null,
   "metadata": {},
   "outputs": [],
   "source": [
    "bh_reward, oga_reward, ons_reward = algo.compute_summary(sp)\n",
    "\n",
    "plot.plot_two_plots(bh_reward, oga_reward, ons_reward)\n",
    "###################################################################################\n"
   ]
  }
 ],
 "metadata": {
  "kernelspec": {
   "display_name": "Python 3",
   "language": "python",
   "name": "python3"
  },
  "language_info": {
   "codemirror_mode": {
    "name": "ipython",
    "version": 3
   },
   "file_extension": ".py",
   "mimetype": "text/x-python",
   "name": "python",
   "nbconvert_exporter": "python",
   "pygments_lexer": "ipython3",
   "version": "3.8.3"
  }
 },
 "nbformat": 4,
 "nbformat_minor": 4
}
