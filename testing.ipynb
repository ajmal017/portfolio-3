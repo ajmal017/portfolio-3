{
 "cells": [
  {
   "cell_type": "code",
   "execution_count": 1,
   "metadata": {},
   "outputs": [],
   "source": [
    "import data\n",
    "import algo\n",
    "import plot\n",
    "import numpy as np"
   ]
  },
  {
   "cell_type": "markdown",
   "metadata": {
    "heading_collapsed": true
   },
   "source": [
    "#  Portfolio Selection"
   ]
  },
  {
   "cell_type": "markdown",
   "metadata": {},
   "source": [
    "Paper: Logarithmic Regret Algorithms for Online Convex Optimization\n",
    "\n",
    "$W_T = W_{T-1} r_{T-1}^T x_{T-1} = W_1 \\prod_t r_t^T x^t$\n",
    "\n",
    "$r_t(i) = \\frac{\\text{price of stock i at } t}{\\text{price of stock i at } t-1}$\n",
    "\n",
    "$f_t(x) = \\log\\left( r_t^T x \\right)$\n",
    "\n",
    "$f_t$ are rewards and not losses, so the regret defined as:\n",
    "\n",
    "$\\text{Regret}_T = \\max_{x \\in \\Delta_n} \\sum_t f_t(x) - \\sum_t f_t(x_t)$\n",
    "\n",
    "We'll use the following no-regret algorithms:\n",
    "\n",
    "oga - online gradient descent\n",
    "\n",
    "ons - online newton step\n",
    "\n"
   ]
  },
  {
   "cell_type": "markdown",
   "metadata": {
    "heading_collapsed": true
   },
   "source": [
    "## Test unit "
   ]
  },
  {
   "cell_type": "markdown",
   "metadata": {},
   "source": [
    "Example from the Elad's book\n",
    "\n",
    "stock 1 $= \\left( 1, 2, 1, ... \\right)$\n",
    "\n",
    "$r_t(1) = \\left( 2, 0.5, 2, 0.5, ... \\right)$\n",
    "\n",
    "stock 2 $= \\left( 2, 1, 2, ... \\right)$\n",
    "\n",
    "$r_t(2) = \\left( 0.5, 2, 0.5, 2, ... \\right)$\n",
    "\n",
    "$p_{opt} = \\left( 0.5, 0.5 \\right)$"
   ]
  },
  {
   "cell_type": "code",
   "execution_count": 4,
   "metadata": {},
   "outputs": [
    {
     "name": "stderr",
     "output_type": "stream",
     "text": [
      "hindsight: 100%|██████████| 999/999 [03:42<00:00,  4.50it/s]\n",
      "oga: 100%|██████████| 999/999 [00:06<00:00, 161.37it/s]\n",
      "ons: 100%|██████████| 999/999 [00:06<00:00, 153.68it/s]\n"
     ]
    },
    {
     "name": "stdout",
     "output_type": "stream",
     "text": [
      "final x_oga =  [[0.50477193]\n",
      " [0.49522807]]\n",
      "final x_ons =  [[0.52697111]\n",
      " [0.47302889]]\n",
      "should be [[0.5]\n",
      " [0.5]]\n"
     ]
    },
    {
     "data": {
      "image/png": "[encoded data removed]",
      "text/plain": [
       "<Figure size 432x288 with 1 Axes>"
      ]
     },
     "metadata": {
      "needs_background": "light"
     },
     "output_type": "display_data"
    }
   ],
   "source": [
    "def test_unit():\n",
    "    T=1000\n",
    "    X = data.test_data(T)\n",
    "\n",
    "    bh_reward = algo.hindsight(X)\n",
    "    x_oga, oga_reward = algo.oga(X)\n",
    "    x_ons, ons_reward = algo.ons(X)\n",
    "\n",
    "    print(\"final x_oga = \",x_oga)\n",
    "    print(\"final x_ons = \",x_ons)\n",
    "    print(\"should be\", 0.5 * np.ones([2,1]))\n",
    "\n",
    "    algs_reward = [[np.cumsum(oga_reward), \"oga\"],[np.cumsum(ons_reward), \"ons\"]]\n",
    "    plot.plot_regret(bh_reward,algs_reward)\n",
    "\n",
    "test_unit()\n",
    "\n",
    "###################################################################################"
   ]
  },
  {
   "cell_type": "markdown",
   "metadata": {
    "heading_collapsed": true
   },
   "source": [
    "## Real data\n"
   ]
  },
  {
   "cell_type": "markdown",
   "metadata": {
    "heading_collapsed": true
   },
   "source": [
    "### S\\&P 500"
   ]
  },
  {
   "cell_type": "markdown",
   "metadata": {},
   "source": [
    "8/2/2013 - 7/2/2018\n",
    "\n",
    "https://www.kaggle.com/camnugent/sandp500?select=all_stocks_5yr.csv\n"
   ]
  },
  {
   "cell_type": "code",
   "execution_count": null,
   "metadata": {},
   "outputs": [],
   "source": [
    "sp, comps = data.SP(k=20)"
   ]
  },
  {
   "cell_type": "markdown",
   "metadata": {
    "heading_collapsed": true
   },
   "source": [
    "#### Stocks Visualization\n"
   ]
  },
  {
   "cell_type": "code",
   "execution_count": null,
   "metadata": {},
   "outputs": [],
   "source": [
    "plot.vis(sp, \"S&P\")"
   ]
  },
  {
   "cell_type": "markdown",
   "metadata": {
    "heading_collapsed": true
   },
   "source": [
    "#### Compute & Plot\n"
   ]
  },
  {
   "cell_type": "code",
   "execution_count": null,
   "metadata": {},
   "outputs": [],
   "source": [
    "oga_x, oga_reward = algo.oga(sp)\n",
    "\n",
    "plot.plot_multiplier([[np.cumsum(oga_rewards), \"oga\"]])\n",
    "###################################################################################"
   ]
  },
  {
   "cell_type": "markdown",
   "metadata": {
    "heading_collapsed": true
   },
   "source": [
    "### Yahoo Finance"
   ]
  },
  {
   "cell_type": "markdown",
   "metadata": {},
   "source": [
    "Take the S\\&P 500 data from yahoo, not from kaggle, to produce same results\n",
    "\n",
    "8/2/2013 - 7/2/2018\n"
   ]
  },
  {
   "cell_type": "code",
   "execution_count": null,
   "metadata": {},
   "outputs": [],
   "source": [
    "comps = ' '.join(comps)\n",
    "y, comps = data.yahoo(comps, start=\"2013-02-08\", end=\"2018-02-07\")"
   ]
  },
  {
   "cell_type": "markdown",
   "metadata": {
    "heading_collapsed": true
   },
   "source": [
    "#### Stocks Visualization\n"
   ]
  },
  {
   "cell_type": "code",
   "execution_count": null,
   "metadata": {},
   "outputs": [],
   "source": [
    "plot.vis(y, \"Yahoo Finance\")"
   ]
  },
  {
   "cell_type": "markdown",
   "metadata": {
    "heading_collapsed": true
   },
   "source": [
    "#### Compute & Plot\n"
   ]
  },
  {
   "cell_type": "code",
   "execution_count": null,
   "metadata": {},
   "outputs": [],
   "source": [
    "oga_x, oga_reward = algo.oga(y)\n",
    "\n",
    "plot.plot_multiplier([[np.cumsum(oga_rewards), \"oga\"]])\n",
    "###################################################################################\n"
   ]
  }
 ],
 "metadata": {
  "kernelspec": {
   "display_name": "Python 3",
   "language": "python",
   "name": "python3"
  },
  "language_info": {
   "codemirror_mode": {
    "name": "ipython",
    "version": 3
   },
   "file_extension": ".py",
   "mimetype": "text/x-python",
   "name": "python",
   "nbconvert_exporter": "python",
   "pygments_lexer": "ipython3",
   "version": "3.8.3"
  }
 },
 "nbformat": 4,
 "nbformat_minor": 4
}
